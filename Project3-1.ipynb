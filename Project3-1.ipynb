{
 "cells": [
  {
   "cell_type": "markdown",
   "metadata": {},
   "source": [
    "# Project 3: machine learning analysis of a superconductors' database\n",
    "\n",
    "\n",
    "In this project you will greatly expand your familiarity with machine learning applications to scientific problems, by exploring a large dataset of superconducting materials, i.e. materials that conduct electricity without resistance.\n",
    "\n",
    "The specific datasets of interest for this project, *train* and *unique_m* are available in CSV format in the Canvas module dedicated to this project. You can find the full code and documentation [here](https://github.com/khamidieh/predict_tc). This GitHub repository is the computational basis of the paper [A Data-Driven Statistical Model for Predicting the Critical Temperature of a Superconductor](https://arxiv.org/abs/1803.10260) by Kam Hamidieh. \n",
    "\n",
    "\n",
    "The dataset *unique_m* contains , for each row, the chemical formula of several superconducting materials, and the critical temperature at which they manifest superconducting properties. The chemical formula is broken up in a row of concentrations associated to each chemical element in the material.\n",
    "\n",
    "The dataset *train* contains in each row a list of relevant chemical properties that can be calculated from first principles for the materials (and the critical temperature as well).\n",
    "\n",
    "(1) Create training and testing datasets by generating two random subsets of the rows of the dataset *train* (excluding the critical temperature values). Create corresponding training and testing targets of critical temperatures.\n",
    "\n",
    "Use the *regressors* of *scikit-learn* to generate machine learning predictors of the critical temperature. Evaluate the accuracy of your predictions.\n",
    "\n",
    "(2) Repeat the steps in (1), but by substituting the *train* dataset with the dataset *unique_m*. \n",
    "\n",
    "(3) Compare the accuracy of the results you get in (1) and (2) and comment on your results.\n",
    "\n",
    "(4) Repeat the analysis in (1)-(3), but replacing the regressors from *scikit-learn* with the corresponding deep learning neural network regressors that you can build with the Keras and TensorFlow Python packages. Refer to [this Jupyter notebook tutorial](https://www.tensorflow.org/tutorials/keras/regression) to learn how to build regressors in Keras.\n",
    "\n",
    "(5) Search the literature to find out what is the current state of machine learning approaches to the estimation of  superconductors' critical temperatures. Compare with your results for this project and suggest possible improvements to your code. \n",
    "\n",
    " \n"
   ]
  },
  {
   "cell_type": "markdown",
   "metadata": {},
   "source": [
    "N. B. the basic structure for this project is the same as the one for HW4 (outlined in HW4_Question1_template and HW4_Question2_template). Just remember that the work you did for HW4 was about *classifiers*, while here you will be working with *regressors*. The main difference is that your targets will take continuous values when you are building a regressor (as opposed to discrete, categorical values for classifiers). \n",
    "\n",
    "N. B. 2 after you import your csv data sets, and after you convert them in numpy arrays (that start with index 0!), change the critical temperature of row 20573 to 60. There is a typo in the dataset.\n",
    "\n",
    "This is a [very basic tutorial](https://www.kaggle.com/andyxie/beginner-scikit-learn-linear-regression-tutorial) on (linear) regression with scikit-learn, and this is [a more complete tutorial](https://developer.ibm.com/tutorials/learn-regression-algorithms-using-python-and-scikit-learn/) that lists several possible regressors in scikit-learn.  "
   ]
  },
  {
   "cell_type": "code",
   "execution_count": 2,
   "metadata": {},
   "outputs": [
    {
     "ename": "ModuleNotFoundError",
     "evalue": "No module named 'train'",
     "output_type": "error",
     "traceback": [
      "\u001b[0;31m---------------------------------------------------------------------------\u001b[0m",
      "\u001b[0;31mModuleNotFoundError\u001b[0m                       Traceback (most recent call last)",
      "Input \u001b[0;32mIn [2]\u001b[0m, in \u001b[0;36m<cell line: 5>\u001b[0;34m()\u001b[0m\n\u001b[1;32m      1\u001b[0m \u001b[38;5;66;03m#This is one project that is best done working on Colab.\u001b[39;00m\n\u001b[1;32m      2\u001b[0m \u001b[38;5;66;03m# You will need the following two lines when reading files from your\u001b[39;00m\n\u001b[1;32m      3\u001b[0m \u001b[38;5;66;03m# Google Drive\u001b[39;00m\n\u001b[0;32m----> 5\u001b[0m \u001b[38;5;28;01mimport\u001b[39;00m \u001b[38;5;21;01mtrain\u001b[39;00m\u001b[38;5;21;01m.\u001b[39;00m\u001b[38;5;21;01mcsv\u001b[39;00m\n\u001b[1;32m      6\u001b[0m \u001b[38;5;28;01mfrom\u001b[39;00m \u001b[38;5;21;01mgoogle\u001b[39;00m\u001b[38;5;21;01m.\u001b[39;00m\u001b[38;5;21;01mcolab\u001b[39;00m \u001b[38;5;28;01mimport\u001b[39;00m drive\n\u001b[1;32m      7\u001b[0m drive\u001b[38;5;241m.\u001b[39mmount(\u001b[38;5;124m'\u001b[39m\u001b[38;5;124m/content/drive/\u001b[39m\u001b[38;5;124m'\u001b[39m)\n",
      "\u001b[0;31mModuleNotFoundError\u001b[0m: No module named 'train'"
     ]
    }
   ],
   "source": [
    "#This is one project that is best done working on Colab.\n",
    "# You will need the following two lines when reading files from your\n",
    "# Google Drive\n",
    "\n",
    "import csv\n",
    "from google.colab import drive\n",
    "drive.mount('/content/drive/')"
   ]
  },
  {
   "cell_type": "code",
   "execution_count": null,
   "metadata": {},
   "outputs": [],
   "source": []
  }
 ],
 "metadata": {
  "interpreter": {
   "hash": "924571507301e38a6e1ff07334e13d350fdb8f069293f4421da046b831b2999e"
  },
  "kernelspec": {
   "display_name": "Python 3 (ipykernel)",
   "language": "python",
   "name": "python3"
  },
  "language_info": {
   "codemirror_mode": {
    "name": "ipython",
    "version": 3
   },
   "file_extension": ".py",
   "mimetype": "text/x-python",
   "name": "python",
   "nbconvert_exporter": "python",
   "pygments_lexer": "ipython3",
   "version": "3.9.12"
  }
 },
 "nbformat": 4,
 "nbformat_minor": 2
}
