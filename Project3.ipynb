{
  "cells": [
    {
      "cell_type": "markdown",
      "metadata": {
        "id": "view-in-github",
        "colab_type": "text"
      },
      "source": [
        "<a href=\"https://colab.research.google.com/github/krristenng/hotlava_GIT/blob/main/Project3.ipynb\" target=\"_parent\"><img src=\"https://colab.research.google.com/assets/colab-badge.svg\" alt=\"Open In Colab\"/></a>"
      ]
    },
    {
      "cell_type": "markdown",
      "metadata": {
        "id": "ZRIIDfU5uwV5"
      },
      "source": [
        "# Project 3: machine learning analysis of a superconductors' database\n",
        "\n",
        "\n",
        "In this project you will greatly expand your familiarity with machine learning applications to scientific problems, by exploring a large dataset of superconducting materials, i.e. materials that conduct electricity without resistance.\n",
        "\n",
        "The specific datasets of interest for this project, *train* and *unique_m* are available in CSV format in the Canvas module dedicated to this project. You can find the full code and documentation [here](https://github.com/khamidieh/predict_tc). This GitHub repository is the computational basis of the paper [A Data-Driven Statistical Model for Predicting the Critical Temperature of a Superconductor](https://arxiv.org/abs/1803.10260) by Kam Hamidieh. \n",
        "\n",
        "\n",
        "The dataset *unique_m* contains , for each row, the chemical formula of several superconducting materials, and the critical temperature at which they manifest superconducting properties. The chemical formula is broken up in a row of concentrations associated to each chemical element in the material.\n",
        "\n",
        "The dataset *train* contains in each row a list of relevant chemical properties that can be calculated from first principles for the materials (and the critical temperature as well).\n",
        "\n",
        "(1) Create training and testing datasets by generating two random subsets of the rows of the dataset *train* (excluding the critical temperature values). Create corresponding training and testing targets of critical temperatures.\n",
        "\n",
        "Use the *regressors* of *scikit-learn* to generate machine learning predictors of the critical temperature. Evaluate the accuracy of your predictions.\n",
        "\n",
        "\n",
        "\n",
        " \n"
      ]
    },
    {
      "cell_type": "markdown",
      "metadata": {
        "id": "sOIwJ873uwV8"
      },
      "source": [
        "N. B. the basic structure for this project is the same as the one for HW4 (outlined in HW4_Question1_template and HW4_Question2_template). Just remember that the work you did for HW4 was about *classifiers*, while here you will be working with *regressors*. The main difference is that your targets will take continuous values when you are building a regressor (as opposed to discrete, categorical values for classifiers). \n",
        "\n",
        "N. B. 2 after you import your csv data sets, and after you convert them in numpy arrays (that start with index 0!), change the critical temperature of row 20573 to 60. There is a typo in the dataset.\n",
        "\n",
        "This is a [very basic tutorial](https://www.kaggle.com/andyxie/beginner-scikit-learn-linear-regression-tutorial) on (linear) regression with scikit-learn, and this is [a more complete tutorial](https://developer.ibm.com/tutorials/learn-regression-algorithms-using-python-and-scikit-learn/) that lists several possible regressors in scikit-learn.  "
      ]
    },
    {
      "cell_type": "code",
      "execution_count": 57,
      "metadata": {
        "colab": {
          "base_uri": "https://localhost:8080/",
          "height": 0
        },
        "id": "ceXip5v4uwV8",
        "outputId": "cdf9df07-53c5-4969-8248-500f2415ba99"
      },
      "outputs": [
        {
          "output_type": "stream",
          "name": "stdout",
          "text": [
            "Drive already mounted at /content/drive/; to attempt to forcibly remount, call drive.mount(\"/content/drive/\", force_remount=True).\n"
          ]
        }
      ],
      "source": [
        "#This is one project that is best done working on Colab.\n",
        "# You will need the following two lines when reading files from your\n",
        "# Google Drive\n",
        "import numpy as np\n",
        "import pandas as pd\n",
        "import h5py\n",
        "from google.colab import drive\n",
        "from sklearn.model_selection import train_test_split\n",
        "from sklearn import tree\n",
        "from sklearn.metrics import mean_absolute_error as mae\n",
        "\n",
        "drive.mount('/content/drive/')\n",
        "#imports tools needed for code"
      ]
    },
    {
      "cell_type": "markdown",
      "source": [
        "These functions important programs and connects my google drive to this notebook. "
      ],
      "metadata": {
        "id": "hGIhUfx1yWQl"
      }
    },
    {
      "cell_type": "code",
      "execution_count": 2,
      "metadata": {
        "id": "GN1u3ulPuwV_"
      },
      "outputs": [],
      "source": [
        "\n",
        "path=\"/content/drive/My Drive/project3/train.csv\"\n",
        "#accesses the train.csv file which is in my google drive. provides a way to be used in this file\n",
        "df = pd.read_csv(path)\n",
        "#makes it so that the file train.csv can be read\n",
        "#csv file stands for comma separated value file which essentially a file that has a bunch of data separated by commas"
      ]
    },
    {
      "cell_type": "markdown",
      "metadata": {
        "id": "ip6jkjHibjzJ"
      },
      "source": [
        "Using pandas to read the csv(comma separated values) file more easily since it works better with data analysis. "
      ]
    },
    {
      "cell_type": "code",
      "execution_count": 3,
      "metadata": {
        "colab": {
          "base_uri": "https://localhost:8080/",
          "height": 0
        },
        "id": "dW0vtlz3czs-",
        "outputId": "52176096-64ee-4738-d28c-cc506d278cc5"
      },
      "outputs": [
        {
          "output_type": "stream",
          "name": "stderr",
          "text": [
            "<ipython-input-3-fcffa5eb68eb>:5: SettingWithCopyWarning: \n",
            "A value is trying to be set on a copy of a slice from a DataFrame\n",
            "\n",
            "See the caveats in the documentation: https://pandas.pydata.org/pandas-docs/stable/user_guide/indexing.html#returning-a-view-versus-a-copy\n",
            "  y[20573]=60\n"
          ]
        }
      ],
      "source": [
        "x = df.iloc[:,0:-1]\n",
        "y = df.iloc[:,-1]\n",
        "\n",
        "#critical point\n",
        "y[20573]=60\n",
        "\n",
        "criticalpoint = y[20573]\n",
        "#print (criticalpoint)\n"
      ]
    },
    {
      "cell_type": "markdown",
      "metadata": {
        "id": "DcAX-eIeS44f"
      },
      "source": [
        "The two functions above (x and y) are the two random subsets of the data set *train*. I've also set the critical temperature point to equal 60. "
      ]
    },
    {
      "cell_type": "code",
      "execution_count": 4,
      "metadata": {
        "colab": {
          "base_uri": "https://localhost:8080/",
          "height": 0
        },
        "id": "ztICRrqPW_a6",
        "outputId": "f269b465-0500-4bb5-923f-4da13a574690"
      },
      "outputs": [
        {
          "output_type": "stream",
          "name": "stdout",
          "text": [
            "No. of training examples: 15947\n",
            "No. of testing examples: 5316\n",
            "No. of training examples: 15947\n",
            "No. of testing examples: 5316\n"
          ]
        }
      ],
      "source": [
        "x_train, x_test, y_train, y_test = train_test_split(x, y, test_size=0.25, random_state=42)\n",
        "#splits data into different functions\n",
        "\n",
        "print(f\"No. of training examples: {x_train.shape[0]}\")\n",
        "print(f\"No. of testing examples: {x_test.shape[0]}\")\n",
        "print(f\"No. of training examples: {y_train.shape[0]}\")\n",
        "print(f\"No. of testing examples: {y_test.shape[0]}\")\n",
        "\n",
        "#makes sure the function works and prints out how many of each there is"
      ]
    },
    {
      "cell_type": "markdown",
      "metadata": {
        "id": "-DMHxqIzX5jo"
      },
      "source": [
        "The functions above splits the two random data sets in the last cell into two. One of the x's will become a train data set and another would be the test data set. Same thing goes for the y data set.  The test size will be 25% of the data\n"
      ]
    },
    {
      "cell_type": "code",
      "execution_count": 59,
      "metadata": {
        "colab": {
          "base_uri": "https://localhost:8080/",
          "height": 1000
        },
        "id": "3pTvr5drj1X_",
        "outputId": "bd0eae88-606e-4324-e2c0-ad18fe29ab70"
      },
      "outputs": [
        {
          "output_type": "stream",
          "name": "stdout",
          "text": [
            "Mean absolute error: 13.37\n",
            "Coefficient of determination: 0.73\n"
          ]
        },
        {
          "output_type": "display_data",
          "data": {
            "text/plain": [
              "<Figure size 432x288 with 1 Axes>"
            ],
            "image/png": "[encoded data removed]"
          },
          "metadata": {
            "needs_background": "light"
          }
        },
        {
          "output_type": "stream",
          "name": "stdout",
          "text": [
            "Mean absolute error: 6.22\n",
            "Coefficient of determination: 0.87\n"
          ]
        },
        {
          "output_type": "display_data",
          "data": {
            "text/plain": [
              "<Figure size 432x288 with 1 Axes>"
            ],
            "image/png": "[encoded data removed]"
          },
          "metadata": {
            "needs_background": "light"
          }
        },
        {
          "output_type": "stream",
          "name": "stdout",
          "text": [
            "Mean absolute error: 5.22\n",
            "Coefficient of determination: 0.92\n"
          ]
        },
        {
          "output_type": "stream",
          "name": "stderr",
          "text": [
            "/usr/local/lib/python3.8/dist-packages/sklearn/ensemble/_forest.py:560: UserWarning: Some inputs do not have OOB scores. This probably means too few trees were used to compute any reliable OOB estimates.\n",
            "  warn(\n"
          ]
        },
        {
          "output_type": "display_data",
          "data": {
            "text/plain": [
              "<Figure size 432x288 with 1 Axes>"
            ],
            "image/png": "[encoded data removed]"
          },
          "metadata": {
            "needs_background": "light"
          }
        }
      ],
      "source": [
        "step=1\n",
        "\n",
        "%matplotlib inline\n",
        "import matplotlib.pyplot as plt \n",
        "from sklearn.linear_model import LinearRegression\n",
        "from sklearn import datasets, linear_model\n",
        "from sklearn.metrics import mean_squared_error, r2_score\n",
        "from sklearn.tree import DecisionTreeRegressor\n",
        "from sklearn.ensemble import RandomForestRegressor\n",
        "\n",
        "# Create linear regression object\n",
        "lin = linear_model.LinearRegression()\n",
        "# Train the model using the training sets\n",
        "lin.fit(x_train,y_train)\n",
        "# Make predictions using the testing set\n",
        "l_pred = lin.predict(x_test)\n",
        "\n",
        "# The mean squared error= measures how close a regression line is to a set of data points\n",
        "print(\"Mean absolute error: %.2f\" %mae(y_test, l_pred))\n",
        "# The coefficient of determination: 1 is perfect prediction\n",
        "print(\"Coefficient of determination: %.2f\" %r2_score(y_test, l_pred))\n",
        "# The coefficients\n",
        "#print(\"Coefficients: \\n\",lin.coef_)\n",
        "\n",
        "#plot outputs\n",
        "plt.scatter(y_test, l_pred, color=\"pink\")\n",
        "plt.title(\"y_train vs. x_train using LinearRegression model\")\n",
        "plt.xlabel(\"x_train\")\n",
        "plt.ylabel(\"y_train\")\n",
        "#regression line\n",
        "n=np.polyfit(y_test,l_pred,1)\n",
        "p=np.poly1d(n)\n",
        "plt.plot(y_test, p(y_test),color=\"grey\", linewidth=3)\n",
        "plt.show()\n",
        "\n",
        "tree=DecisionTreeRegressor()\n",
        "plt.title(\"y_train vs. x_train using DecisionTreeRegressor model\")\n",
        "tree.fit(x_train,y_train)\n",
        "t_pred = tree.predict(x_test)\n",
        "\n",
        "# The mean squared error= measures how close a regression line is to a set of data points\n",
        "print(\"Mean absolute error: %.2f\" %mae(y_test, t_pred))\n",
        "# The coefficient of determination: 1 is perfect prediction\n",
        "print(\"Coefficient of determination: %.2f\" %r2_score(y_test, t_pred))\n",
        "# The coefficients\n",
        "#print(\"Coefficients: \\n\",forest.coef_)\n",
        "\n",
        "\n",
        "#plot outputs\n",
        "plt.scatter(y_test, t_pred, color=\"darkseagreen\")\n",
        "plt.xlabel(\"x_train\")\n",
        "plt.ylabel(\"y_train\")\n",
        "#regression line\n",
        "n=np.polyfit(y_test,t_pred,1)\n",
        "p=np.poly1d(n)\n",
        "plt.plot(y_test, p(y_test),color=\"grey\", linewidth=3)\n",
        "plt.show()\n",
        "\n",
        "forest=RandomForestRegressor(n_estimators=10, oob_score=True, random_state=100)\n",
        "plt.title(\"y_train vs. x_train using RandomForestRegressor model\")\n",
        "forest.fit(x_train,y_train)\n",
        "f_pred = forest.predict(x_test)\n",
        "\n",
        "# The mean squared error= measures how close a regression line is to a set of data points\n",
        "print(\"Mean absolute error: %.2f\" %mae(y_test, f_pred))\n",
        "# The coefficient of determination: 1 is perfect prediction\n",
        "print(\"Coefficient of determination: %.2f\" %r2_score(y_test, f_pred))\n",
        "# The coefficients\n",
        "#print(\"Coefficients: \\n\",forest.coef_)\n",
        "\n",
        "\n",
        "#plot outputs\n",
        "plt.scatter(y_test, f_pred, color=\"powderblue\")\n",
        "plt.xlabel(\"x_train\")\n",
        "plt.ylabel(\"y_train\")\n",
        "#regression line\n",
        "n=np.polyfit(y_test,f_pred,1)\n",
        "p=np.poly1d(n)\n",
        "plt.plot(y_test, p(y_test),color=\"grey\", linewidth=3)\n",
        "plt.show()\n"
      ]
    },
    {
      "cell_type": "markdown",
      "metadata": {
        "id": "NIxt4UTcwHEh"
      },
      "source": [
        "Testing three different regressors( RandomForest, RandomTree and Linear), RandomForestRegressor performed best. The mean absolute error of the linear reggressor is 13.37 which is measure of errors between paired observations expressing the same phenomenon. The mean absolute error for RandomTree is 6.22 and for RandomForestRegressor it is 5.22. The perfect mean absolute error is 0, so the accuracy of RandomForestRegressor outperformed the linear and RandomTree regressor. \n",
        "\n",
        "The coefficient of determination, or R^2, is the measure of how well a statistical model preficts a model. The perfect model would have an R^2 value of 1, which means 100% of the points would fall within the regression line. The linear model has a R^2 value of 0.73 which means that 73% of the points would fall within the regression line. The RandomTree model has a R^2 value of 0.87 which means that 87% of the points would fall within the regression line. The RandomForest model has a R^2 value of 0.92 which means that 92% of the points would fall within the regression line. Once again, RandomForest outperformed the other two models. RandomForest did 19% better than the linear model."
      ]
    },
    {
      "cell_type": "markdown",
      "metadata": {
        "id": "5qnINZpjeNCV"
      },
      "source": [
        "(2) Repeat the steps in (1), but by substituting the *train* dataset with the dataset *unique_m*. \n",
        "\n"
      ]
    },
    {
      "cell_type": "code",
      "execution_count": 6,
      "metadata": {
        "id": "RKUsCCy2GIP2"
      },
      "outputs": [],
      "source": [
        "uath=\"/content/drive/My Drive/project3/unique_m.csv\"\n",
        "#accesses the unique_m.csv file which is in my google drive. provides a way to be used in this file\n",
        "cf = pd.read_csv(uath)\n",
        "#makes it so that the file unique_m.csv can be read"
      ]
    },
    {
      "cell_type": "code",
      "execution_count": 7,
      "metadata": {
        "colab": {
          "base_uri": "https://localhost:8080/",
          "height": 0
        },
        "id": "6TNFwLGXGlzh",
        "outputId": "21a55a79-1a39-44b7-a828-3782a91bfb64"
      },
      "outputs": [
        {
          "output_type": "stream",
          "name": "stdout",
          "text": [
            "No. of training examples: 15947\n",
            "No. of testing examples: 5316\n",
            "No. of training examples: 15947\n",
            "No. of testing examples: 5316\n"
          ]
        }
      ],
      "source": [
        "x2 = cf.iloc[:,0:-2]\n",
        "y2 = cf.iloc[:,-2]\n",
        "\n",
        "\n",
        "\n",
        "x_train2, x_test2, y_train2, y_test2 = train_test_split(x2, y2, test_size=0.25, random_state=42)\n",
        "#splits data into different functions\n",
        "print(f\"No. of training examples: {x_train2.shape[0]}\")\n",
        "print(f\"No. of testing examples: {x_test2.shape[0]}\")\n",
        "print(f\"No. of training examples: {y_train2.shape[0]}\")\n",
        "print(f\"No. of testing examples: {y_test2.shape[0]}\")"
      ]
    },
    {
      "cell_type": "markdown",
      "metadata": {
        "id": "7P2EBLEaSamq"
      },
      "source": [
        "The two functions above (x2 and y2) are the two random subsets of the data set *train*. I've also set the critical temperature point to equal 60. The functions above splits the two random data sets in the last cell into two. One of the x2's will become a train data set and another would be the test data set. Same thing goes for the y2 data set. The test size will be 25% of the data."
      ]
    },
    {
      "cell_type": "code",
      "execution_count": 60,
      "metadata": {
        "colab": {
          "base_uri": "https://localhost:8080/",
          "height": 1000
        },
        "id": "-2X5pHF0NFCo",
        "outputId": "6ce5b6a8-5619-46dc-88a8-47df6f1dc6d9"
      },
      "outputs": [
        {
          "output_type": "stream",
          "name": "stdout",
          "text": [
            "Mean absolute error: 15.43\n",
            "Coefficient of determination: 0.64\n"
          ]
        },
        {
          "output_type": "display_data",
          "data": {
            "text/plain": [
              "<Figure size 432x288 with 1 Axes>"
            ],
            "image/png": "[encoded data removed]"
          },
          "metadata": {
            "needs_background": "light"
          }
        },
        {
          "output_type": "stream",
          "name": "stdout",
          "text": [
            "Mean absolute error: 5.74\n",
            "Coefficient of determination: 0.89\n"
          ]
        },
        {
          "output_type": "display_data",
          "data": {
            "text/plain": [
              "<Figure size 432x288 with 1 Axes>"
            ],
            "image/png": "[encoded data removed]"
          },
          "metadata": {
            "needs_background": "light"
          }
        },
        {
          "output_type": "stream",
          "name": "stdout",
          "text": [
            "Mean absolute error: 5.28\n",
            "Coefficient of determination: 0.92\n"
          ]
        },
        {
          "output_type": "stream",
          "name": "stderr",
          "text": [
            "/usr/local/lib/python3.8/dist-packages/sklearn/ensemble/_forest.py:560: UserWarning: Some inputs do not have OOB scores. This probably means too few trees were used to compute any reliable OOB estimates.\n",
            "  warn(\n"
          ]
        },
        {
          "output_type": "display_data",
          "data": {
            "text/plain": [
              "<Figure size 432x288 with 1 Axes>"
            ],
            "image/png": "[encoded data removed]"
          },
          "metadata": {
            "needs_background": "light"
          }
        }
      ],
      "source": [
        "\n",
        "# Create linear regression object\n",
        "regr = linear_model.LinearRegression()\n",
        "# Train the model using the training sets\n",
        "regr.fit(x_train2, y_train2)\n",
        "# Make predictions using the testing set\n",
        "y_pred2 = regr.predict(x_test2)\n",
        "\n",
        "# The mean squared error\n",
        "print(\"Mean absolute error: %.2f\" %mae(y_test2, y_pred2))\n",
        "# The coefficient of determination: 1 is perfect prediction\n",
        "print(\"Coefficient of determination: %.2f\" %r2_score(y_test2, y_pred2))\n",
        "# The coefficients\n",
        "#print(\"Coefficients: \\n\",regr.coef_)\n",
        "\n",
        "#plot outputs\n",
        "plt.scatter(y_test2, y_pred2, color=\"pink\")\n",
        "plt.title(\"y_train2 vs. x_trai2n using LinearRegression model\")\n",
        "plt.xlabel(\"x_train2\")\n",
        "plt.ylabel(\"y_train2\")\n",
        "#regression line\n",
        "n=np.polyfit(y_test2,y_pred2,1)\n",
        "p=np.poly1d(n)\n",
        "plt.plot(y_test2, p(y_test2),color=\"black\", linewidth=3)\n",
        "plt.show()\n",
        "\n",
        "trees=DecisionTreeRegressor()\n",
        "plt.title(\"y_train2 vs. x_train2 using DecisionTreeRegressor model\")\n",
        "trees.fit(x_train2,y_train2)\n",
        "tr_pred = trees.predict(x_test2)\n",
        "\n",
        "# The mean squared error= measures how close a regression line is to a set of data points\n",
        "print(\"Mean absolute error: %.2f\" %mae(y_test2, tr_pred))\n",
        "# The coefficient of determination: 1 is perfect prediction\n",
        "print(\"Coefficient of determination: %.2f\" %r2_score(y_test2, tr_pred))\n",
        "# The coefficients\n",
        "#print(\"Coefficients: \\n\",forest.coef_)\n",
        "\n",
        "\n",
        "#plot outputs\n",
        "plt.scatter(y_test2, tr_pred, color=\"darkseagreen\")\n",
        "plt.xlabel(\"x_train2\")\n",
        "plt.ylabel(\"y_train2\")\n",
        "#regression line\n",
        "n=np.polyfit(y_test2,tr_pred,1)\n",
        "p=np.poly1d(n)\n",
        "plt.plot(y_test2, p(y_test2),color=\"black\", linewidth=3)\n",
        "plt.show()\n",
        "\n",
        "fors=RandomForestRegressor(n_estimators=10, oob_score=True, random_state=100)#DecisionTreeRegressor(max_depth=8, min_samples_leaf=0.13, random_state=3)\n",
        "plt.title(\"y_train2 vs. x_train2 using RandomForestRegressor model\")\n",
        "fors.fit(x_train2,y_train2)\n",
        "fs_pred = fors.predict(x_test2)\n",
        "\n",
        "# The mean squared error= measures how close a regression line is to a set of data points\n",
        "print(\"Mean absolute error: %.2f\" %mae(y_test2, fs_pred))\n",
        "# The coefficient of determination: 1 is perfect prediction\n",
        "print(\"Coefficient of determination: %.2f\" %r2_score(y_test2, fs_pred))\n",
        "\n",
        "\n",
        "#plot outputs\n",
        "plt.scatter(y_test2, fs_pred, color=\"powderblue\")\n",
        "plt.xlabel(\"x_train2\")\n",
        "plt.ylabel(\"y_train2\")\n",
        "#regression line\n",
        "n=np.polyfit(y_test2,fs_pred,1)\n",
        "p=np.poly1d(n)\n",
        "plt.plot(y_test2, p(y_test2),color=\"black\", linewidth=3)\n",
        "plt.show()\n"
      ]
    },
    {
      "cell_type": "markdown",
      "metadata": {
        "id": "cOYxOUm5Vr55"
      },
      "source": [
        "Testing three different regressors( RandomForest, RandomTree and Linear), RandomForestRegressor performed best. The mean absolute error of the linear reggressor is 15.43 which is measure of errors between paired observations expressing the same phenomenon. The mean absolute error for RandomTree is 5.74 and for RandomForestRegressor it is 5.28. The perfect mean absolute error is 0, so the accuracy of RandomForestRegressor outperformed the linear and RandomTree regressor. \n",
        "\n",
        "The coefficient of determination, or R^2, is the measure of how well a statistical model preficts a model. The perfect model would have an R^2 value of 1, which means 100% of the points would fall within the regression line. The linear model has a R^2 value of 0.65 which means that 65% of the points would fall within the regression line. The RandomTree model has a R^2 value of 0.9 which means that 90% of the points would fall within the regression line. The RandomForest model has a R^2 value of 0.92 which means that 92% of the points would fall within the regression line. Once again, RandomForest outperformed the other two models. RandomForest did better by 27% than the linear model. \n",
        "\n"
      ]
    },
    {
      "cell_type": "markdown",
      "metadata": {
        "id": "eeHWC8bKGHW1"
      },
      "source": [
        "(3) Compare the accuracy of the results you get in (1) and (2) and comment on your results.\n",
        "\n"
      ]
    },
    {
      "cell_type": "markdown",
      "metadata": {
        "id": "Un-9Sh1OWOwl"
      },
      "source": [
        "Ultimately, the data from the train data set out-performed the unique data set for the linear and RandomFOrest model except when it came to the coefficient of determination(R^2) of RandomForestRegressor and in that regard they tied. Just looking at the graph, you can tell that the train data set would have more accurate results as there is this one extreme outlier on the unique data set that completely messes up the data. \n",
        "\n",
        "For the linear regression model, the mean absolute error was about 2 units higher on the graph using unique data set than the one using the train data set. For the Coefficient of determination, it was lowed by by 8% when the unique data set was used.\n",
        "\n",
        "For the RandomForest regressor, the mean absolute error was about .06 units higher on the graph using the unique data set than the train data set, but as said earlier, the R^2 was the same for both.\n",
        "\n",
        "\n",
        "The results for RandomTree were actually the oposite of what happened for the other two models. RandomTree performed better using the unique data set. The Coefficient of determination is about 3% higher and the mean absolute error was lower by about .5 units.\n"
      ]
    },
    {
      "cell_type": "markdown",
      "metadata": {
        "id": "TRkVsd8McM2m"
      },
      "source": [
        "(4) Repeat the analysis in (1)-(3), but replacing the regressors from *scikit-learn* with the corresponding deep learning neural network regressors that you can build with the Keras and TensorFlow Python packages. Refer to [this Jupyter notebook tutorial](https://www.tensorflow.org/tutorials/keras/regression) to learn how to build regressors in Keras.\n",
        "\n"
      ]
    },
    {
      "cell_type": "code",
      "execution_count": 9,
      "metadata": {
        "id": "KuVO96FvsCug"
      },
      "outputs": [],
      "source": [
        "# Use seaborn for pairplot.\n",
        "!pip install -q seaborn"
      ]
    },
    {
      "cell_type": "code",
      "execution_count": 10,
      "metadata": {
        "id": "IsRoRVIPcOiJ",
        "colab": {
          "base_uri": "https://localhost:8080/",
          "height": 0
        },
        "outputId": "4a758714-0d67-4389-dcb2-f0df67433bec"
      },
      "outputs": [
        {
          "output_type": "stream",
          "name": "stdout",
          "text": [
            "2.9.2\n"
          ]
        }
      ],
      "source": [
        "import matplotlib.pyplot as plt\n",
        "import numpy as np\n",
        "import pandas as pd\n",
        "import seaborn as sns\n",
        "\n",
        "# Make NumPy printouts easier to read.\n",
        "np.set_printoptions(precision=3, suppress=True)\n",
        "\n",
        "import tensorflow as tf\n",
        "\n",
        "from tensorflow import keras\n",
        "from tensorflow.keras import layers\n",
        "\n",
        "print(tf.__version__)"
      ]
    },
    {
      "cell_type": "markdown",
      "source": [
        "Using Keras(a Python interface for artificial neural networks), we will use other models to see if the accuracy results of the data are better than that of RandomForest."
      ],
      "metadata": {
        "id": "iuknBvqzv6AF"
      }
    },
    {
      "cell_type": "code",
      "execution_count": 11,
      "metadata": {
        "id": "xqAPBuelv9jm",
        "colab": {
          "base_uri": "https://localhost:8080/",
          "height": 0
        },
        "outputId": "2e8a5912-9aa1-448e-c0a8-27509bb2a80b"
      },
      "outputs": [
        {
          "output_type": "stream",
          "name": "stdout",
          "text": [
            "[[10634.826     4.116    87.576    73.057    71.254    58.581     1.166\n",
            "      1.065   115.82     33.264    44.478    41.513   769.463   869.565\n",
            "    737.415   832.        1.3       0.929   571.345   481.923   215.281\n",
            "    223.646   157.932   134.874   144.428   121.176     1.268     1.132\n",
            "    139.244    51.409    51.559    52.297  6112.629  5273.925  3459.491\n",
            "   3122.265     1.073     0.858  8673.009  2913.878  3419.55   3322.301\n",
            "     76.774    92.436    54.218    72.033     1.071     0.772   120.736\n",
            "     59.143    48.94     44.507    14.27     13.821    10.142    10.136\n",
            "      1.094     0.916    21.085     8.182     8.296     7.704    89.631\n",
            "     81.39     29.73     27.159     0.729     0.543   250.961    61.829\n",
            "     98.954    96.161     3.199     3.155     3.058     3.057     1.296\n",
            "      1.055     2.043     1.483     0.84      0.676]]\n"
          ]
        }
      ],
      "source": [
        "#first step of normalization\n",
        "normalizer = tf.keras.layers.Normalization(axis=-1)\n",
        "#fits the state of the preprocessing layer\n",
        "normalizer.adapt(np.array(x_train))\n",
        "#Calculate the mean and variance, and store them in the layer:\n",
        "print(normalizer.mean.numpy())\n"
      ]
    },
    {
      "cell_type": "markdown",
      "metadata": {
        "id": "soYNRLwDvtUx"
      },
      "source": [
        "data shows a layer of normalized data for the mean variance which is just a set of data points for the mean that have been set to a similar scale in which the data shifts and is scaled with the distribution around zero and a standard deviation of one. "
      ]
    },
    {
      "cell_type": "code",
      "execution_count": 12,
      "metadata": {
        "id": "UHjOlRqAsYuy",
        "colab": {
          "base_uri": "https://localhost:8080/",
          "height": 0
        },
        "outputId": "9a240a0d-c86d-41cc-8cc5-493437f7a6d2"
      },
      "outputs": [
        {
          "output_type": "stream",
          "name": "stdout",
          "text": [
            "First example: [[  618.       6.     103.9     89.8     73.26    69.36     1.51     1.49\n",
            "    192.98    36.2     76.82    65.3    769.1    724.4    736.14   701.47\n",
            "      1.74     1.66   764.1    200.05   253.16   208.96   150.5    159.07\n",
            "    136.65   148.87     1.72     1.56   171.      38.87    53.52    47.29\n",
            "   5710.24  5642.4   1339.97  2176.5      1.41     1.27 11338.57  2693.14\n",
            "   4438.54  3956.64    67.02    70.01    33.7     32.68     1.4      1.2\n",
            "    138.63    35.27    54.35    54.98     7.59     9.29     4.67     6.87\n",
            "      1.58     1.38    12.88     3.92     4.18     3.74   113.     169.3\n",
            "     16.59    38.97     1.03     0.78   399.97   120.23   144.85   166.4\n",
            "      2.83     2.61     2.62     2.42     1.71     1.62     3.       0.77\n",
            "      1.21     1.18]]\n",
            "\n",
            "Normalized: [[-1.63  1.31  0.55  0.5   0.06  0.29  0.95  1.06  1.41  0.11  1.61  1.19\n",
            "  -0.   -1.01 -0.02 -1.09  1.16  2.19  0.62 -1.26  0.34 -0.11 -0.37  0.84\n",
            "  -0.35  0.77  1.2   1.05  0.47 -0.36  0.09 -0.2  -0.14  0.11 -0.57 -0.24\n",
            "   0.99  1.29  0.65 -0.09  0.61  0.39 -0.35 -0.7  -0.71 -1.25  0.95  1.48\n",
            "   0.31 -0.84  0.25  0.51 -0.59 -0.32 -0.54 -0.25  1.3   1.26 -0.41 -0.38\n",
            "  -0.48 -0.55  0.61  1.95 -0.39  0.3   0.93  0.76  0.94  1.37  0.76  1.1\n",
            "  -0.35 -0.46 -0.42 -0.55  1.05  1.48  0.77 -0.73  0.77  1.11]]\n",
            "Second example: [105.]\n",
            "\n",
            "Normalized: [[ -1.71  70.09   0.59   0.96   1.09   1.27 285.14 259.17  -0.2    2.66\n",
            "    3.01   3.18  -7.59  -5.33  -8.07  -6.07 271.93 311.27  -1.5   -1.69\n",
            "   -1.    -0.93  -2.63  -1.04  -1.79  -0.45 276.72 255.39  -0.51   1.53\n",
            "    2.34   2.09  -2.11  -1.6   -0.91  -0.76 304.25 325.14  -2.09  -1.16\n",
            "   -1.98  -1.99   1.02   0.39   1.77   1.05 302.32 363.49  -0.27   1.61\n",
            "    2.58   2.96   8.07   6.45   9.42   7.27 277.58 281.57   4.15   8.64\n",
            "   11.27  13.46   0.4    0.52   2.24   1.98 320.55 328.39  -0.92   1.01\n",
            "    0.1    0.14  97.74  85.66  97.82  87.02 264.38 273.32  83.16 105.79\n",
            "  215.68 229.3 ]]\n"
          ]
        }
      ],
      "source": [
        "first = np.array(x_train[:1])\n",
        "second = np.array(y_train[:1])\n",
        "\n",
        "with np.printoptions(precision=2, suppress=True):\n",
        "  print('First example:', first)\n",
        "  print()\n",
        "  print('Normalized:', normalizer(first).numpy())\n",
        "  print('Second example:', second)\n",
        "  print()\n",
        "  print('Normalized:', normalizer(second).numpy())"
      ]
    },
    {
      "cell_type": "markdown",
      "metadata": {
        "id": "l-aMl9OqxRCC"
      },
      "source": [
        "Two examples of normalizing layers. In the first example, the data is taken from x_train and the second example the data is taken from y_train. "
      ]
    },
    {
      "cell_type": "code",
      "execution_count": 13,
      "metadata": {
        "id": "8grCwTBiutec"
      },
      "outputs": [],
      "source": [
        "#new np.array is made and is normalized through keras\n",
        "xx = np.array(x_train)\n",
        "xx_normalizer = layers.Normalization(input_shape=[1,], axis=None)\n",
        "xx_normalizer.adapt(xx)"
      ]
    },
    {
      "cell_type": "code",
      "execution_count": 14,
      "metadata": {
        "colab": {
          "base_uri": "https://localhost:8080/",
          "height": 0
        },
        "id": "o7_rqzc3is_Z",
        "outputId": "61850f63-d1ea-4d56-d5e3-b8a2526f527d"
      },
      "outputs": [
        {
          "output_type": "stream",
          "name": "stdout",
          "text": [
            "Model: \"sequential\"\n",
            "_________________________________________________________________\n",
            " Layer (type)                Output Shape              Param #   \n",
            "=================================================================\n",
            " normalization_1 (Normalizat  (None, 1)                3         \n",
            " ion)                                                            \n",
            "                                                                 \n",
            " dense (Dense)               (None, 1)                 2         \n",
            "                                                                 \n",
            "=================================================================\n",
            "Total params: 5\n",
            "Trainable params: 2\n",
            "Non-trainable params: 3\n",
            "_________________________________________________________________\n"
          ]
        }
      ],
      "source": [
        "#keras seqential model\n",
        "\n",
        "xx_model = tf.keras.Sequential([\n",
        "    xx_normalizer,\n",
        "    layers.Dense(units=1)\n",
        "])\n",
        "\n",
        "xx_model.summary()"
      ]
    },
    {
      "cell_type": "markdown",
      "metadata": {
        "id": "fdldcV_42gUV"
      },
      "source": [
        "This is the keras seqential model working which bascially compiles a stack of layers where it only has one tensor input and one tensor output.\n",
        "\n",
        "tensor input= essentially an input data container. np.array is one kind \n",
        "\n",
        "tensor output= essentially an output data container. np.array is one kind "
      ]
    },
    {
      "cell_type": "code",
      "execution_count": 15,
      "metadata": {
        "id": "7p7yg2ewi45X"
      },
      "outputs": [],
      "source": [
        "\n",
        "#compiles the most important arguments, loss and the optimizer\n",
        "xx_model.compile(\n",
        "    optimizer=tf.keras.optimizers.Adam(learning_rate=0.1),\n",
        "    loss='mean_absolute_error')"
      ]
    },
    {
      "cell_type": "code",
      "execution_count": 16,
      "metadata": {
        "id": "rivAJUotX0fD"
      },
      "outputs": [],
      "source": [
        "#first step in a two step model and first layer is normalizer\n",
        "linear_model = tf.keras.Sequential([\n",
        "    normalizer,\n",
        "    layers.Dense(units=1)\n",
        "])"
      ]
    },
    {
      "cell_type": "code",
      "execution_count": null,
      "metadata": {
        "id": "Fk-HrU6gYQTv"
      },
      "outputs": [],
      "source": [
        "#linear_model.predict(x_train[:10])\n"
      ]
    },
    {
      "cell_type": "code",
      "execution_count": 17,
      "metadata": {
        "colab": {
          "base_uri": "https://localhost:8080/",
          "height": 0
        },
        "id": "LiPWJ-rH-vMy",
        "outputId": "5a8036b8-c4ae-49a6-b814-b2c478bf6cbe"
      },
      "outputs": [
        {
          "output_type": "execute_result",
          "data": {
            "text/plain": [
              "<tf.Variable 'dense_1/kernel:0' shape=(82, 1) dtype=float32, numpy=\n",
              "array([[ 0.258],\n",
              "       [-0.008],\n",
              "       [-0.259],\n",
              "       [-0.243],\n",
              "       [ 0.235],\n",
              "       [-0.08 ],\n",
              "       [ 0.023],\n",
              "       [ 0.036],\n",
              "       [-0.04 ],\n",
              "       [ 0.214],\n",
              "       [-0.156],\n",
              "       [-0.135],\n",
              "       [ 0.004],\n",
              "       [-0.152],\n",
              "       [ 0.185],\n",
              "       [ 0.102],\n",
              "       [ 0.171],\n",
              "       [-0.182],\n",
              "       [-0.177],\n",
              "       [-0.024],\n",
              "       [ 0.077],\n",
              "       [ 0.058],\n",
              "       [ 0.217],\n",
              "       [-0.096],\n",
              "       [ 0.238],\n",
              "       [ 0.108],\n",
              "       [ 0.076],\n",
              "       [-0.239],\n",
              "       [-0.116],\n",
              "       [-0.21 ],\n",
              "       [-0.243],\n",
              "       [ 0.153],\n",
              "       [ 0.004],\n",
              "       [ 0.15 ],\n",
              "       [ 0.116],\n",
              "       [ 0.214],\n",
              "       [ 0.101],\n",
              "       [-0.079],\n",
              "       [-0.02 ],\n",
              "       [ 0.055],\n",
              "       [ 0.244],\n",
              "       [-0.16 ],\n",
              "       [-0.155],\n",
              "       [-0.227],\n",
              "       [ 0.239],\n",
              "       [-0.008],\n",
              "       [ 0.237],\n",
              "       [-0.102],\n",
              "       [-0.017],\n",
              "       [-0.097],\n",
              "       [ 0.121],\n",
              "       [ 0.12 ],\n",
              "       [-0.096],\n",
              "       [-0.181],\n",
              "       [ 0.053],\n",
              "       [-0.17 ],\n",
              "       [ 0.205],\n",
              "       [-0.211],\n",
              "       [ 0.138],\n",
              "       [ 0.172],\n",
              "       [-0.094],\n",
              "       [ 0.209],\n",
              "       [ 0.248],\n",
              "       [ 0.171],\n",
              "       [ 0.02 ],\n",
              "       [ 0.042],\n",
              "       [ 0.085],\n",
              "       [-0.25 ],\n",
              "       [-0.008],\n",
              "       [ 0.253],\n",
              "       [-0.2  ],\n",
              "       [-0.162],\n",
              "       [-0.266],\n",
              "       [-0.12 ],\n",
              "       [-0.191],\n",
              "       [ 0.223],\n",
              "       [-0.243],\n",
              "       [ 0.022],\n",
              "       [-0.224],\n",
              "       [ 0.01 ],\n",
              "       [ 0.167],\n",
              "       [-0.117]], dtype=float32)>"
            ]
          },
          "metadata": {},
          "execution_count": 17
        }
      ],
      "source": [
        "#prints out the matrices of the model\n",
        "linear_model.layers[1].kernel\n"
      ]
    },
    {
      "cell_type": "markdown",
      "source": [
        "The array of the linear model is displayed above."
      ],
      "metadata": {
        "id": "4cVHEU5vLtzQ"
      }
    },
    {
      "cell_type": "code",
      "execution_count": 18,
      "metadata": {
        "id": "AMmOsLGMY6L-"
      },
      "outputs": [],
      "source": [
        "#compiling a model specifies what layers the model contain, and how they're connected\n",
        "linear_model.compile(\n",
        "    optimizer=tf.keras.optimizers.Adam(learning_rate=0.1),\n",
        "    loss='mean_absolute_error')"
      ]
    },
    {
      "cell_type": "code",
      "execution_count": 46,
      "metadata": {
        "colab": {
          "base_uri": "https://localhost:8080/",
          "height": 0
        },
        "id": "pWLyoVDmY9Nb",
        "outputId": "cdda214e-db39-4292-8ae3-8d6d4d6426ae"
      },
      "outputs": [
        {
          "output_type": "stream",
          "name": "stdout",
          "text": [
            "CPU times: user 1min 10s, sys: 4.88 s, total: 1min 15s\n",
            "Wall time: 1min 1s\n"
          ]
        }
      ],
      "source": [
        "#trains the data only for the first 100 data points\n",
        "%%time\n",
        "history = linear_model.fit(\n",
        "    x_train,\n",
        "    y_train,\n",
        "    epochs=100,\n",
        "    # Suppress logging.\n",
        "    verbose=0,\n",
        "    # Calculate validation results on 20% of the training data.\n",
        "    validation_split = 0.2)"
      ]
    },
    {
      "cell_type": "markdown",
      "source": [
        "a linear model is innitiated above to test the data set."
      ],
      "metadata": {
        "id": "nFu__Sj2Nh1L"
      }
    },
    {
      "cell_type": "code",
      "execution_count": 47,
      "metadata": {
        "id": "tRXJWGNZeJWU"
      },
      "outputs": [],
      "source": [
        "def plot_loss(tester):\n",
        "  plt.plot(history.history['loss'], label='loss')\n",
        "  plt.plot(history.history['val_loss'], label='val_loss')\n",
        "  #plt.ylim([0, 10])\n",
        "  plt.xlabel('Epoch')\n",
        "  plt.ylabel('Error')\n",
        "  plt.legend()\n",
        "  plt.grid(True)"
      ]
    },
    {
      "cell_type": "code",
      "execution_count": 48,
      "metadata": {
        "colab": {
          "base_uri": "https://localhost:8080/",
          "height": 281
        },
        "id": "LwI1zs76_UJZ",
        "outputId": "00739853-5b4d-441b-894b-5dc1b84826c7"
      },
      "outputs": [
        {
          "output_type": "display_data",
          "data": {
            "text/plain": [
              "<Figure size 432x288 with 1 Axes>"
            ],
            "image/png": "[encoded data removed]"
          },
          "metadata": {
            "needs_background": "light"
          }
        }
      ],
      "source": [
        "plot_loss(model)\n"
      ]
    },
    {
      "cell_type": "markdown",
      "source": [
        "This graph plots the first 100 data points using a linear regression to find the error. \n"
      ],
      "metadata": {
        "id": "M_obnWI8WQry"
      }
    },
    {
      "cell_type": "code",
      "execution_count": 38,
      "metadata": {
        "id": "41dx99JjeTtA"
      },
      "outputs": [],
      "source": [
        "#collects the results from test set\n",
        "test_results = {}\n",
        "test_results['linear_model'] = linear_model.evaluate(\n",
        "    x_test, y_test, verbose=0)"
      ]
    },
    {
      "cell_type": "markdown",
      "metadata": {
        "id": "Jy0hJMl_J5DB"
      },
      "source": [
        "dnn"
      ]
    },
    {
      "cell_type": "code",
      "execution_count": 39,
      "metadata": {
        "id": "pCu5XCk8Ba1H"
      },
      "outputs": [],
      "source": [
        "#Deep neural network\n",
        "def build_and_compile_model(norm):\n",
        "  model = keras.Sequential([\n",
        "      norm,\n",
        "      layers.Dense(64, activation='relu'),\n",
        "      layers.Dense(64, activation='relu'),\n",
        "      layers.Dense(1)\n",
        "  ])\n",
        "\n",
        "  model.compile(loss='mean_absolute_error',\n",
        "                optimizer=tf.keras.optimizers.Adam(0.001))\n",
        "  return model\n"
      ]
    },
    {
      "cell_type": "markdown",
      "metadata": {
        "id": "UVaDej6l9CL_"
      },
      "source": [
        "The function above compiles the normalization layer and adds more layers in order to give a model a bigger capacity which would give it the ability to learn complex tasks and achieve better performance."
      ]
    },
    {
      "cell_type": "code",
      "execution_count": 40,
      "metadata": {
        "colab": {
          "base_uri": "https://localhost:8080/",
          "height": 0
        },
        "id": "AAVH1nsRC8QO",
        "outputId": "b3d3d0f9-6faa-412a-9698-bbc4f96301fc"
      },
      "outputs": [
        {
          "output_type": "stream",
          "name": "stdout",
          "text": [
            "Model: \"sequential_2\"\n",
            "_________________________________________________________________\n",
            " Layer (type)                Output Shape              Param #   \n",
            "=================================================================\n",
            " normalization (Normalizatio  (None, 82)               165       \n",
            " n)                                                              \n",
            "                                                                 \n",
            " dense_2 (Dense)             (None, 64)                5312      \n",
            "                                                                 \n",
            " dense_3 (Dense)             (None, 64)                4160      \n",
            "                                                                 \n",
            " dense_4 (Dense)             (None, 1)                 65        \n",
            "                                                                 \n",
            "=================================================================\n",
            "Total params: 9,702\n",
            "Trainable params: 9,537\n",
            "Non-trainable params: 165\n",
            "_________________________________________________________________\n"
          ]
        }
      ],
      "source": [
        "#dnn with single input and summary\n",
        "\n",
        "dnn_model = build_and_compile_model(normalizer)\n",
        "dnn_model.summary()"
      ]
    },
    {
      "cell_type": "markdown",
      "source": [
        "The above data essentially tells us how many of the parameters are trainable and nontrainable. The data is drawn from the linear and DNN models. There are four layers to this model."
      ],
      "metadata": {
        "id": "8ypT2ORbTqbY"
      }
    },
    {
      "cell_type": "code",
      "execution_count": 41,
      "metadata": {
        "colab": {
          "base_uri": "https://localhost:8080/",
          "height": 0
        },
        "id": "LZTCS5uWDWRR",
        "outputId": "9b743e30-a9a6-4358-fcf7-35503e6ac214"
      },
      "outputs": [
        {
          "output_type": "stream",
          "name": "stdout",
          "text": [
            "CPU times: user 1min 24s, sys: 5.81 s, total: 1min 30s\n",
            "Wall time: 1min 22s\n"
          ]
        }
      ],
      "source": [
        "#train keras using the function model.fit\n",
        "%%time\n",
        "model = dnn_model.fit(\n",
        "    x_train,\n",
        "    y_train,\n",
        "    validation_split=0.2,\n",
        "    verbose=0, epochs=100)"
      ]
    },
    {
      "cell_type": "markdown",
      "source": [
        "initiating the dnn model to test data."
      ],
      "metadata": {
        "id": "Ee3Ctbs3Qf0j"
      }
    },
    {
      "cell_type": "code",
      "execution_count": 49,
      "metadata": {
        "colab": {
          "base_uri": "https://localhost:8080/",
          "height": 281
        },
        "id": "BHJ9MK8YIO0v",
        "outputId": "df88ab26-33af-43e3-b2c9-535f1515bf02"
      },
      "outputs": [
        {
          "output_type": "display_data",
          "data": {
            "text/plain": [
              "<Figure size 432x288 with 1 Axes>"
            ],
            "image/png": "[encoded data removed]"
          },
          "metadata": {
            "needs_background": "light"
          }
        }
      ],
      "source": [
        "plot_loss(model)\n"
      ]
    },
    {
      "cell_type": "markdown",
      "source": [
        "The graph above shows the error of the first 100 data points using the deep neural network model. This graph has more layers than the linear model so it has more data to draw from to make this graph even. The loss line is much more stable and linear than the vol_loss\n",
        "\n",
        "loss=to compute the quantity that a model should seek to minimize during training\n",
        "\n",
        "val_loss= assess the performance of a deep learning model on the validation set(a sample of data held back from training your model that is used to give an estimate of model skill while tuning model's hyperparameters\n",
        ")"
      ],
      "metadata": {
        "id": "7d-5D79jYkWm"
      }
    },
    {
      "cell_type": "code",
      "execution_count": 50,
      "metadata": {
        "colab": {
          "base_uri": "https://localhost:8080/",
          "height": 130
        },
        "id": "WGJufJdKJJkJ",
        "outputId": "e6824f32-9141-4883-cabf-9a3c212b62f7"
      },
      "outputs": [
        {
          "output_type": "stream",
          "name": "stdout",
          "text": [
            "{'linear_model': 13.513568878173828, 'dnn_model': 7.211411952972412}\n"
          ]
        },
        {
          "output_type": "execute_result",
          "data": {
            "text/plain": [
              "              Mean absolute error\n",
              "linear_model            13.513569\n",
              "dnn_model                7.211412"
            ],
            "text/html": [
              "\n",
              "  <div id=\"df-bcdda985-f54d-4435-9e78-6419e47de284\">\n",
              "    <div class=\"colab-df-container\">\n",
              "      <div>\n",
              "<style scoped>\n",
              "    .dataframe tbody tr th:only-of-type {\n",
              "        vertical-align: middle;\n",
              "    }\n",
              "\n",
              "    .dataframe tbody tr th {\n",
              "        vertical-align: top;\n",
              "    }\n",
              "\n",
              "    .dataframe thead th {\n",
              "        text-align: right;\n",
              "    }\n",
              "</style>\n",
              "<table border=\"1\" class=\"dataframe\">\n",
              "  <thead>\n",
              "    <tr style=\"text-align: right;\">\n",
              "      <th></th>\n",
              "      <th>Mean absolute error</th>\n",
              "    </tr>\n",
              "  </thead>\n",
              "  <tbody>\n",
              "    <tr>\n",
              "      <th>linear_model</th>\n",
              "      <td>13.513569</td>\n",
              "    </tr>\n",
              "    <tr>\n",
              "      <th>dnn_model</th>\n",
              "      <td>7.211412</td>\n",
              "    </tr>\n",
              "  </tbody>\n",
              "</table>\n",
              "</div>\n",
              "      <button class=\"colab-df-convert\" onclick=\"convertToInteractive('df-bcdda985-f54d-4435-9e78-6419e47de284')\"\n",
              "              title=\"Convert this dataframe to an interactive table.\"\n",
              "              style=\"display:none;\">\n",
              "        \n",
              "  <svg xmlns=\"http://www.w3.org/2000/svg\" height=\"24px\"viewBox=\"0 0 24 24\"\n",
              "       width=\"24px\">\n",
              "    <path d=\"M0 0h24v24H0V0z\" fill=\"none\"/>\n",
              "    <path d=\"M18.56 5.44l.94 2.06.94-2.06 2.06-.94-2.06-.94-.94-2.06-.94 2.06-2.06.94zm-11 1L8.5 8.5l.94-2.06 2.06-.94-2.06-.94L8.5 2.5l-.94 2.06-2.06.94zm10 10l.94 2.06.94-2.06 2.06-.94-2.06-.94-.94-2.06-.94 2.06-2.06.94z\"/><path d=\"M17.41 7.96l-1.37-1.37c-.4-.4-.92-.59-1.43-.59-.52 0-1.04.2-1.43.59L10.3 9.45l-7.72 7.72c-.78.78-.78 2.05 0 2.83L4 21.41c.39.39.9.59 1.41.59.51 0 1.02-.2 1.41-.59l7.78-7.78 2.81-2.81c.8-.78.8-2.07 0-2.86zM5.41 20L4 18.59l7.72-7.72 1.47 1.35L5.41 20z\"/>\n",
              "  </svg>\n",
              "      </button>\n",
              "      \n",
              "  <style>\n",
              "    .colab-df-container {\n",
              "      display:flex;\n",
              "      flex-wrap:wrap;\n",
              "      gap: 12px;\n",
              "    }\n",
              "\n",
              "    .colab-df-convert {\n",
              "      background-color: #E8F0FE;\n",
              "      border: none;\n",
              "      border-radius: 50%;\n",
              "      cursor: pointer;\n",
              "      display: none;\n",
              "      fill: #1967D2;\n",
              "      height: 32px;\n",
              "      padding: 0 0 0 0;\n",
              "      width: 32px;\n",
              "    }\n",
              "\n",
              "    .colab-df-convert:hover {\n",
              "      background-color: #E2EBFA;\n",
              "      box-shadow: 0px 1px 2px rgba(60, 64, 67, 0.3), 0px 1px 3px 1px rgba(60, 64, 67, 0.15);\n",
              "      fill: #174EA6;\n",
              "    }\n",
              "\n",
              "    [theme=dark] .colab-df-convert {\n",
              "      background-color: #3B4455;\n",
              "      fill: #D2E3FC;\n",
              "    }\n",
              "\n",
              "    [theme=dark] .colab-df-convert:hover {\n",
              "      background-color: #434B5C;\n",
              "      box-shadow: 0px 1px 3px 1px rgba(0, 0, 0, 0.15);\n",
              "      filter: drop-shadow(0px 1px 2px rgba(0, 0, 0, 0.3));\n",
              "      fill: #FFFFFF;\n",
              "    }\n",
              "  </style>\n",
              "\n",
              "      <script>\n",
              "        const buttonEl =\n",
              "          document.querySelector('#df-bcdda985-f54d-4435-9e78-6419e47de284 button.colab-df-convert');\n",
              "        buttonEl.style.display =\n",
              "          google.colab.kernel.accessAllowed ? 'block' : 'none';\n",
              "\n",
              "        async function convertToInteractive(key) {\n",
              "          const element = document.querySelector('#df-bcdda985-f54d-4435-9e78-6419e47de284');\n",
              "          const dataTable =\n",
              "            await google.colab.kernel.invokeFunction('convertToInteractive',\n",
              "                                                     [key], {});\n",
              "          if (!dataTable) return;\n",
              "\n",
              "          const docLinkHtml = 'Like what you see? Visit the ' +\n",
              "            '<a target=\"_blank\" href=https://colab.research.google.com/notebooks/data_table.ipynb>data table notebook</a>'\n",
              "            + ' to learn more about interactive tables.';\n",
              "          element.innerHTML = '';\n",
              "          dataTable['output_type'] = 'display_data';\n",
              "          await google.colab.output.renderOutput(dataTable, element);\n",
              "          const docLink = document.createElement('div');\n",
              "          docLink.innerHTML = docLinkHtml;\n",
              "          element.appendChild(docLink);\n",
              "        }\n",
              "      </script>\n",
              "    </div>\n",
              "  </div>\n",
              "  "
            ]
          },
          "metadata": {},
          "execution_count": 50
        }
      ],
      "source": [
        "#collects data from test set\n",
        "test_results['dnn_model'] = dnn_model.evaluate(x_test, y_test, verbose=0)\n",
        "\n",
        "print(test_results)\n",
        "\n",
        "#reviews performance of both models\n",
        "pd.DataFrame(test_results, index=['Mean absolute error']).T\n"
      ]
    },
    {
      "cell_type": "code",
      "execution_count": 51,
      "metadata": {
        "colab": {
          "base_uri": "https://localhost:8080/",
          "height": 319
        },
        "id": "sqC0qv9UJvHt",
        "outputId": "ecb87e37-9639-48cf-c40d-36383d5b3cb4"
      },
      "outputs": [
        {
          "output_type": "stream",
          "name": "stdout",
          "text": [
            "167/167 [==============================] - 0s 1ms/step\n",
            "Coefficient of determination: 0.87\n"
          ]
        },
        {
          "output_type": "display_data",
          "data": {
            "text/plain": [
              "<Figure size 432x288 with 1 Axes>"
            ],
            "image/png": "[encoded data removed]"
          },
          "metadata": {
            "needs_background": "light"
          }
        }
      ],
      "source": [
        "#make preduction with dnn model\n",
        "test_predictions = dnn_model.predict(x_test).flatten()\n",
        "#y_pred = model.predict(x_test)\n",
        "\n",
        "a = plt.axes(aspect='equal')\n",
        "plt.scatter(y_test[0:-1], test_predictions[0:-1], color='powderblue')\n",
        "plt.plot(color=\"black\")\n",
        "plt.xlabel('True Values ')\n",
        "plt.ylabel('Predictions')\n",
        "print(\"Coefficient of determination: %.2f\" %r2_score(y_test, test_predictions))\n",
        "lims = [0, 50]\n",
        "plt.xlim(lims)\n",
        "plt.ylim(lims)\n",
        "_ = plt.plot(lims, lims)\n"
      ]
    },
    {
      "cell_type": "markdown",
      "metadata": {
        "id": "bjiR1vR7iPei"
      },
      "source": [
        "Using the dnn model, we can predict what the model will look like and how accurate it is using the test set."
      ]
    },
    {
      "cell_type": "code",
      "execution_count": 52,
      "metadata": {
        "colab": {
          "base_uri": "https://localhost:8080/",
          "height": 279
        },
        "id": "pEBgZphwRagg",
        "outputId": "c27844d2-9ca2-4ca3-90b9-727968b8f1e2"
      },
      "outputs": [
        {
          "output_type": "display_data",
          "data": {
            "text/plain": [
              "<Figure size 432x288 with 1 Axes>"
            ],
            "image/png": "[encoded data removed]"
          },
          "metadata": {
            "needs_background": "light"
          }
        }
      ],
      "source": [
        "#error distribution\n",
        "error = test_predictions - y_test\n",
        "plt.hist(error, bins=25)\n",
        "plt.xlabel('Prediction Error')\n",
        "_ = plt.ylabel('Count')"
      ]
    },
    {
      "cell_type": "markdown",
      "source": [
        "The graph above shows us how accurate the data is by estimating what the error is. Most of the data having an error prediction of 0 is a good sign that this model worked effectively.\n"
      ],
      "metadata": {
        "id": "N3F7GqGeYFJc"
      }
    },
    {
      "cell_type": "code",
      "execution_count": 53,
      "metadata": {
        "id": "0PZIbthVRmvX"
      },
      "outputs": [],
      "source": [
        "dnn_model.save('dnn_model')\n"
      ]
    },
    {
      "cell_type": "code",
      "execution_count": 54,
      "metadata": {
        "id": "qieOufq6RqO1"
      },
      "outputs": [],
      "source": [
        "reloaded = tf.keras.models.load_model('dnn_model')\n",
        "\n",
        "test_results['reloaded'] = reloaded.evaluate(\n",
        "    x_test, y_test, verbose=0)"
      ]
    },
    {
      "cell_type": "code",
      "execution_count": 55,
      "metadata": {
        "colab": {
          "base_uri": "https://localhost:8080/",
          "height": 143
        },
        "id": "2EYkCXsSRxJg",
        "outputId": "491e91f1-61b6-42d6-a0f9-68c0c15f04fd"
      },
      "outputs": [
        {
          "output_type": "execute_result",
          "data": {
            "text/plain": [
              "              Mean absolute error\n",
              "linear_model            13.513569\n",
              "dnn_model                7.211412\n",
              "reloaded                 7.211412"
            ],
            "text/html": [
              "\n",
              "  <div id=\"df-75dfdba3-2ca3-46b6-987c-9b15b55526f5\">\n",
              "    <div class=\"colab-df-container\">\n",
              "      <div>\n",
              "<style scoped>\n",
              "    .dataframe tbody tr th:only-of-type {\n",
              "        vertical-align: middle;\n",
              "    }\n",
              "\n",
              "    .dataframe tbody tr th {\n",
              "        vertical-align: top;\n",
              "    }\n",
              "\n",
              "    .dataframe thead th {\n",
              "        text-align: right;\n",
              "    }\n",
              "</style>\n",
              "<table border=\"1\" class=\"dataframe\">\n",
              "  <thead>\n",
              "    <tr style=\"text-align: right;\">\n",
              "      <th></th>\n",
              "      <th>Mean absolute error</th>\n",
              "    </tr>\n",
              "  </thead>\n",
              "  <tbody>\n",
              "    <tr>\n",
              "      <th>linear_model</th>\n",
              "      <td>13.513569</td>\n",
              "    </tr>\n",
              "    <tr>\n",
              "      <th>dnn_model</th>\n",
              "      <td>7.211412</td>\n",
              "    </tr>\n",
              "    <tr>\n",
              "      <th>reloaded</th>\n",
              "      <td>7.211412</td>\n",
              "    </tr>\n",
              "  </tbody>\n",
              "</table>\n",
              "</div>\n",
              "      <button class=\"colab-df-convert\" onclick=\"convertToInteractive('df-75dfdba3-2ca3-46b6-987c-9b15b55526f5')\"\n",
              "              title=\"Convert this dataframe to an interactive table.\"\n",
              "              style=\"display:none;\">\n",
              "        \n",
              "  <svg xmlns=\"http://www.w3.org/2000/svg\" height=\"24px\"viewBox=\"0 0 24 24\"\n",
              "       width=\"24px\">\n",
              "    <path d=\"M0 0h24v24H0V0z\" fill=\"none\"/>\n",
              "    <path d=\"M18.56 5.44l.94 2.06.94-2.06 2.06-.94-2.06-.94-.94-2.06-.94 2.06-2.06.94zm-11 1L8.5 8.5l.94-2.06 2.06-.94-2.06-.94L8.5 2.5l-.94 2.06-2.06.94zm10 10l.94 2.06.94-2.06 2.06-.94-2.06-.94-.94-2.06-.94 2.06-2.06.94z\"/><path d=\"M17.41 7.96l-1.37-1.37c-.4-.4-.92-.59-1.43-.59-.52 0-1.04.2-1.43.59L10.3 9.45l-7.72 7.72c-.78.78-.78 2.05 0 2.83L4 21.41c.39.39.9.59 1.41.59.51 0 1.02-.2 1.41-.59l7.78-7.78 2.81-2.81c.8-.78.8-2.07 0-2.86zM5.41 20L4 18.59l7.72-7.72 1.47 1.35L5.41 20z\"/>\n",
              "  </svg>\n",
              "      </button>\n",
              "      \n",
              "  <style>\n",
              "    .colab-df-container {\n",
              "      display:flex;\n",
              "      flex-wrap:wrap;\n",
              "      gap: 12px;\n",
              "    }\n",
              "\n",
              "    .colab-df-convert {\n",
              "      background-color: #E8F0FE;\n",
              "      border: none;\n",
              "      border-radius: 50%;\n",
              "      cursor: pointer;\n",
              "      display: none;\n",
              "      fill: #1967D2;\n",
              "      height: 32px;\n",
              "      padding: 0 0 0 0;\n",
              "      width: 32px;\n",
              "    }\n",
              "\n",
              "    .colab-df-convert:hover {\n",
              "      background-color: #E2EBFA;\n",
              "      box-shadow: 0px 1px 2px rgba(60, 64, 67, 0.3), 0px 1px 3px 1px rgba(60, 64, 67, 0.15);\n",
              "      fill: #174EA6;\n",
              "    }\n",
              "\n",
              "    [theme=dark] .colab-df-convert {\n",
              "      background-color: #3B4455;\n",
              "      fill: #D2E3FC;\n",
              "    }\n",
              "\n",
              "    [theme=dark] .colab-df-convert:hover {\n",
              "      background-color: #434B5C;\n",
              "      box-shadow: 0px 1px 3px 1px rgba(0, 0, 0, 0.15);\n",
              "      filter: drop-shadow(0px 1px 2px rgba(0, 0, 0, 0.3));\n",
              "      fill: #FFFFFF;\n",
              "    }\n",
              "  </style>\n",
              "\n",
              "      <script>\n",
              "        const buttonEl =\n",
              "          document.querySelector('#df-75dfdba3-2ca3-46b6-987c-9b15b55526f5 button.colab-df-convert');\n",
              "        buttonEl.style.display =\n",
              "          google.colab.kernel.accessAllowed ? 'block' : 'none';\n",
              "\n",
              "        async function convertToInteractive(key) {\n",
              "          const element = document.querySelector('#df-75dfdba3-2ca3-46b6-987c-9b15b55526f5');\n",
              "          const dataTable =\n",
              "            await google.colab.kernel.invokeFunction('convertToInteractive',\n",
              "                                                     [key], {});\n",
              "          if (!dataTable) return;\n",
              "\n",
              "          const docLinkHtml = 'Like what you see? Visit the ' +\n",
              "            '<a target=\"_blank\" href=https://colab.research.google.com/notebooks/data_table.ipynb>data table notebook</a>'\n",
              "            + ' to learn more about interactive tables.';\n",
              "          element.innerHTML = '';\n",
              "          dataTable['output_type'] = 'display_data';\n",
              "          await google.colab.output.renderOutput(dataTable, element);\n",
              "          const docLink = document.createElement('div');\n",
              "          docLink.innerHTML = docLinkHtml;\n",
              "          element.appendChild(docLink);\n",
              "        }\n",
              "      </script>\n",
              "    </div>\n",
              "  </div>\n",
              "  "
            ]
          },
          "metadata": {},
          "execution_count": 55
        }
      ],
      "source": [
        "pd.DataFrame(test_results, index=['Mean absolute error']).T\n"
      ]
    },
    {
      "cell_type": "markdown",
      "metadata": {
        "id": "9-dSByVui91M"
      },
      "source": [
        "summary of results using keras.\n",
        "\n",
        "The best model tested was the RandomForestRegressor with a mean absolute error of 5.22. I ultimately assumed the dnn model would perform the best as it was the most complex, but, that was not the case at all as it was outperformed by RandomForest as well as RandomTree regressor."
      ]
    },
    {
      "cell_type": "markdown",
      "metadata": {
        "id": "NuaVSM_tcO17"
      },
      "source": [
        "(5) Search the literature to find out what is the current state of machine learning approaches to the estimation of  superconductors' critical temperatures. Compare with your results for this project and suggest possible improvements to your code. "
      ]
    },
    {
      "cell_type": "markdown",
      "source": [
        "https://pure.mpg.de/rest/items/item_2621552/component/file_2621551/content\n",
        "\n",
        "Looking through multiple sources, this is one of the articles that summed up the results I ultimately found. Currently the research is slow and not very accurate. They are currently using regressors as well as using Magpie, a deep learning tool for multi-label text classification, to test the accuracy of the predictions. The most accurate application used is the RandomForestRegressor which gives an accuracy of .92 r^2(coefficient of determination).\n",
        "\n",
        "\n",
        "\n",
        "\n",
        "\n",
        "https://www.sciencedirect.com/science/article/pii/S0921453420301374\n",
        "\n",
        "Bagged Tree method is one of the regressors I found on the article above which takes a lot of the small Tree method Regressors and compiles them into one regressor which it shoud make it the best one. This could signifcantly improve the data\n",
        "\n",
        "https://www.nature.com/articles/s41524-018-0085-8#Sec1\n",
        "\n",
        "Another thing we can change to improve the results is to draw information from a bigger database, namely the SuperCon database which pulls from  >16,000 different compositions rather than a couple thousand compounds at most. "
      ],
      "metadata": {
        "id": "pGsiEhHY7J1D"
      }
    },
    {
      "cell_type": "markdown",
      "source": [
        "Superconductors can and will probably how we are proplled into the future to reduce and hopefully eliminate the use of fossil fuels. Some things it can help run includes levitating trains, highly accurate magnetoencephalography(the measurement of the magnetic field generated by the electrical activity of neurons), and smaller and lighter engines, generators and transformers, faster connections\n",
        "\n",
        "\n",
        "The example i think of is disneys monorail because the magnets keep it afloat, but it runs on ellectricity. The magnets are used to keep the train afloat.\n",
        "\n",
        "I hope that the research for superconductors moves along quickly, but, at this rate I'm not sure how long it will take to find viable solution using this. Will countries all over the world be on board with this solution and help fund this. It will be expensive to implement.\n",
        "\n",
        "I am constantly blown away by AI and its capabilities and I wonder where it will lead us going forward. The thing I question most is how logical it is to do all this research and find a solution. Will there be more regressors and tools used to better the results and how long that will take to model.   "
      ],
      "metadata": {
        "id": "Mdt86Azxz_jF"
      }
    }
  ],
  "metadata": {
    "colab": {
      "provenance": [],
      "include_colab_link": true
    },
    "interpreter": {
      "hash": "924571507301e38a6e1ff07334e13d350fdb8f069293f4421da046b831b2999e"
    },
    "kernelspec": {
      "display_name": "Python 3 (ipykernel)",
      "language": "python",
      "name": "python3"
    },
    "language_info": {
      "codemirror_mode": {
        "name": "ipython",
        "version": 3
      },
      "file_extension": ".py",
      "mimetype": "text/x-python",
      "name": "python",
      "nbconvert_exporter": "python",
      "pygments_lexer": "ipython3",
      "version": "3.9.12"
    }
  },
  "nbformat": 4,
  "nbformat_minor": 0
}